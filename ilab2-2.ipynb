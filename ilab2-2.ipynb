{
  "nbformat": 4,
  "nbformat_minor": 0,
  "metadata": {
    "colab": {
      "provenance": []
    },
    "kernelspec": {
      "name": "python3",
      "display_name": "Python 3"
    },
    "language_info": {
      "name": "python"
    }
  },
  "cells": [
    {
      "cell_type": "code",
      "execution_count": null,
      "metadata": {
        "id": "RfP-4Grh1sPF"
      },
      "outputs": [],
      "source": [
        "import json\n",
        "from sklearn.feature_extraction.text import TfidfVectorizer\n",
        "from sklearn.cluster import KMeans\n",
        "import matplotlib.pyplot as plt\n",
        "from sklearn.manifold import TSNE\n",
        "from sklearn.feature_extraction import text"
      ]
    },
    {
      "cell_type": "code",
      "source": [
        "from google.colab import drive\n",
        "drive.mount('/content/drive')"
      ],
      "metadata": {
        "id": "t_bT00ik3u-n",
        "colab": {
          "base_uri": "https://localhost:8080/"
        },
        "outputId": "15cad5b6-f912-4b86-febe-cf1cd392c2af"
      },
      "execution_count": null,
      "outputs": [
        {
          "output_type": "stream",
          "name": "stdout",
          "text": [
            "Mounted at /content/drive\n"
          ]
        }
      ]
    },
    {
      "cell_type": "code",
      "source": [
        "with open('/content/drive/My Drive/patents2.json', 'r', encoding='utf-8') as jsonfile:\n",
        "  patents = json.load(jsonfile)"
      ],
      "metadata": {
        "id": "bzZ18f-Z2pl6"
      },
      "execution_count": null,
      "outputs": []
    },
    {
      "cell_type": "code",
      "source": [
        "#extract titles\n",
        "titles = [str(patent[\"biblio\"][\"invention_title\"]) for patent in patents]"
      ],
      "metadata": {
        "id": "WECc1FAx8853"
      },
      "execution_count": null,
      "outputs": []
    },
    {
      "cell_type": "code",
      "source": [
        "#pip install scikit-learn"
      ],
      "metadata": {
        "id": "V4VZCbh_9rHr"
      },
      "execution_count": null,
      "outputs": []
    },
    {
      "cell_type": "markdown",
      "source": [
        "Cluster plot to see if there are similar technologies"
      ],
      "metadata": {
        "id": "-s8P9nltRvI0"
      }
    },
    {
      "cell_type": "code",
      "source": [
        "# Define industry keywords\n",
        "technology_industry_patents = []\n",
        "industry_keywords = {\n",
        "    'technology': [\n",
        "        'tech', 'electronics', 'software', 'hardware',\n",
        "        'information technology', 'computer', 'internet',\n",
        "        'telecommunication', 'artificial intelligence', 'AI',\n",
        "        'machine learning', 'cybersecurity'\n",
        "    ]\n",
        "}"
      ],
      "metadata": {
        "id": "3tgnkHSmGgNz"
      },
      "execution_count": null,
      "outputs": []
    },
    {
      "cell_type": "code",
      "source": [
        "#filter based on abstract and keywords\n",
        "for patent in patents:\n",
        "    abstract_data = patent.get('abstract', [])\n",
        "    if isinstance(abstract_data, list):\n",
        "        # Initialize an empty string for the abstract\n",
        "        abstract = ''\n",
        "        for item in abstract_data:\n",
        "            if isinstance(item, str):\n",
        "                abstract += item + ' '  # Concatenate string elements\n",
        "    elif isinstance(abstract_data, str):\n",
        "        # Use the abstract as-is if it's already a string\n",
        "        abstract = abstract_data\n",
        "    else:\n",
        "        # Handle other cases (e.g., abstract not available)\n",
        "        abstract = ''\n",
        "\n",
        "    abstract = abstract.lower()  # Convert to lowercase for keyword matching\n",
        "\n",
        "    if any(keyword in abstract for keyword in industry_keywords['technology']):\n",
        "        technology_industry_patents.append(patent)"
      ],
      "metadata": {
        "id": "uEHZyVyJGnKv"
      },
      "execution_count": null,
      "outputs": []
    },
    {
      "cell_type": "code",
      "source": [
        "technology_titles = [patent[\"biblio\"][\"invention_title\"] for patent in technology_industry_patents]"
      ],
      "metadata": {
        "id": "KsdXi6gVGsbt"
      },
      "execution_count": null,
      "outputs": []
    },
    {
      "cell_type": "code",
      "source": [
        "custom_stop_words = ['patent', 'invention', 'title', 'abstract']"
      ],
      "metadata": {
        "id": "xiInRYfTIqE-"
      },
      "execution_count": null,
      "outputs": []
    },
    {
      "cell_type": "code",
      "source": [
        "from sklearn.feature_extraction.text import TfidfVectorizer, ENGLISH_STOP_WORDS\n",
        "filtered_technology_titles = [' '.join([word for word in title.split() if word.lower() not in ENGLISH_STOP_WORDS]) for title in technology_titles]"
      ],
      "metadata": {
        "id": "OZMxHQsrJXhU"
      },
      "execution_count": null,
      "outputs": []
    },
    {
      "cell_type": "code",
      "source": [
        "# Preprocess technology titles\n",
        "processed_technology_titles = [' '.join(title.split()) for title in technology_titles]\n",
        "\n",
        "# Concatenate titles with abstracts\n",
        "technology_abstracts = [patent.get('abstract', '') for patent in technology_industry_patents]\n",
        "combined_text = [f\"{title} {abstract}\".strip() for title, abstract in zip(processed_technology_titles, technology_abstracts)]\n",
        "\n",
        "# TF-IDF vectorization\n",
        "vectorizer = TfidfVectorizer(stop_words='english')\n",
        "tfidf_matrix = vectorizer.fit_transform(combined_text)"
      ],
      "metadata": {
        "id": "sjR5JHf3OSvm",
        "colab": {
          "base_uri": "https://localhost:8080/",
          "height": 356
        },
        "outputId": "6ceb7cd2-1cd3-4350-ff2b-34849660e144"
      },
      "execution_count": null,
      "outputs": [
        {
          "output_type": "error",
          "ename": "ValueError",
          "evalue": "ignored",
          "traceback": [
            "\u001b[0;31m---------------------------------------------------------------------------\u001b[0m",
            "\u001b[0;31mValueError\u001b[0m                                Traceback (most recent call last)",
            "\u001b[0;32m<ipython-input-11-342164f817f1>\u001b[0m in \u001b[0;36m<cell line: 10>\u001b[0;34m()\u001b[0m\n\u001b[1;32m      8\u001b[0m \u001b[0;31m# TF-IDF vectorization\u001b[0m\u001b[0;34m\u001b[0m\u001b[0;34m\u001b[0m\u001b[0m\n\u001b[1;32m      9\u001b[0m \u001b[0mvectorizer\u001b[0m \u001b[0;34m=\u001b[0m \u001b[0mTfidfVectorizer\u001b[0m\u001b[0;34m(\u001b[0m\u001b[0mstop_words\u001b[0m\u001b[0;34m=\u001b[0m\u001b[0;34m'english'\u001b[0m\u001b[0;34m)\u001b[0m\u001b[0;34m\u001b[0m\u001b[0;34m\u001b[0m\u001b[0m\n\u001b[0;32m---> 10\u001b[0;31m \u001b[0mtfidf_matrix\u001b[0m \u001b[0;34m=\u001b[0m \u001b[0mvectorizer\u001b[0m\u001b[0;34m.\u001b[0m\u001b[0mfit_transform\u001b[0m\u001b[0;34m(\u001b[0m\u001b[0mcombined_text\u001b[0m\u001b[0;34m)\u001b[0m\u001b[0;34m\u001b[0m\u001b[0;34m\u001b[0m\u001b[0m\n\u001b[0m",
            "\u001b[0;32m/usr/local/lib/python3.10/dist-packages/sklearn/feature_extraction/text.py\u001b[0m in \u001b[0;36mfit_transform\u001b[0;34m(self, raw_documents, y)\u001b[0m\n\u001b[1;32m   2131\u001b[0m             \u001b[0msublinear_tf\u001b[0m\u001b[0;34m=\u001b[0m\u001b[0mself\u001b[0m\u001b[0;34m.\u001b[0m\u001b[0msublinear_tf\u001b[0m\u001b[0;34m,\u001b[0m\u001b[0;34m\u001b[0m\u001b[0;34m\u001b[0m\u001b[0m\n\u001b[1;32m   2132\u001b[0m         )\n\u001b[0;32m-> 2133\u001b[0;31m         \u001b[0mX\u001b[0m \u001b[0;34m=\u001b[0m \u001b[0msuper\u001b[0m\u001b[0;34m(\u001b[0m\u001b[0;34m)\u001b[0m\u001b[0;34m.\u001b[0m\u001b[0mfit_transform\u001b[0m\u001b[0;34m(\u001b[0m\u001b[0mraw_documents\u001b[0m\u001b[0;34m)\u001b[0m\u001b[0;34m\u001b[0m\u001b[0;34m\u001b[0m\u001b[0m\n\u001b[0m\u001b[1;32m   2134\u001b[0m         \u001b[0mself\u001b[0m\u001b[0;34m.\u001b[0m\u001b[0m_tfidf\u001b[0m\u001b[0;34m.\u001b[0m\u001b[0mfit\u001b[0m\u001b[0;34m(\u001b[0m\u001b[0mX\u001b[0m\u001b[0;34m)\u001b[0m\u001b[0;34m\u001b[0m\u001b[0;34m\u001b[0m\u001b[0m\n\u001b[1;32m   2135\u001b[0m         \u001b[0;31m# X is already a transformed view of raw_documents so\u001b[0m\u001b[0;34m\u001b[0m\u001b[0;34m\u001b[0m\u001b[0m\n",
            "\u001b[0;32m/usr/local/lib/python3.10/dist-packages/sklearn/feature_extraction/text.py\u001b[0m in \u001b[0;36mfit_transform\u001b[0;34m(self, raw_documents, y)\u001b[0m\n\u001b[1;32m   1386\u001b[0m                     \u001b[0;32mbreak\u001b[0m\u001b[0;34m\u001b[0m\u001b[0;34m\u001b[0m\u001b[0m\n\u001b[1;32m   1387\u001b[0m \u001b[0;34m\u001b[0m\u001b[0m\n\u001b[0;32m-> 1388\u001b[0;31m         \u001b[0mvocabulary\u001b[0m\u001b[0;34m,\u001b[0m \u001b[0mX\u001b[0m \u001b[0;34m=\u001b[0m \u001b[0mself\u001b[0m\u001b[0;34m.\u001b[0m\u001b[0m_count_vocab\u001b[0m\u001b[0;34m(\u001b[0m\u001b[0mraw_documents\u001b[0m\u001b[0;34m,\u001b[0m \u001b[0mself\u001b[0m\u001b[0;34m.\u001b[0m\u001b[0mfixed_vocabulary_\u001b[0m\u001b[0;34m)\u001b[0m\u001b[0;34m\u001b[0m\u001b[0;34m\u001b[0m\u001b[0m\n\u001b[0m\u001b[1;32m   1389\u001b[0m \u001b[0;34m\u001b[0m\u001b[0m\n\u001b[1;32m   1390\u001b[0m         \u001b[0;32mif\u001b[0m \u001b[0mself\u001b[0m\u001b[0;34m.\u001b[0m\u001b[0mbinary\u001b[0m\u001b[0;34m:\u001b[0m\u001b[0;34m\u001b[0m\u001b[0;34m\u001b[0m\u001b[0m\n",
            "\u001b[0;32m/usr/local/lib/python3.10/dist-packages/sklearn/feature_extraction/text.py\u001b[0m in \u001b[0;36m_count_vocab\u001b[0;34m(self, raw_documents, fixed_vocab)\u001b[0m\n\u001b[1;32m   1292\u001b[0m             \u001b[0mvocabulary\u001b[0m \u001b[0;34m=\u001b[0m \u001b[0mdict\u001b[0m\u001b[0;34m(\u001b[0m\u001b[0mvocabulary\u001b[0m\u001b[0;34m)\u001b[0m\u001b[0;34m\u001b[0m\u001b[0;34m\u001b[0m\u001b[0m\n\u001b[1;32m   1293\u001b[0m             \u001b[0;32mif\u001b[0m \u001b[0;32mnot\u001b[0m \u001b[0mvocabulary\u001b[0m\u001b[0;34m:\u001b[0m\u001b[0;34m\u001b[0m\u001b[0;34m\u001b[0m\u001b[0m\n\u001b[0;32m-> 1294\u001b[0;31m                 raise ValueError(\n\u001b[0m\u001b[1;32m   1295\u001b[0m                     \u001b[0;34m\"empty vocabulary; perhaps the documents only contain stop words\"\u001b[0m\u001b[0;34m\u001b[0m\u001b[0;34m\u001b[0m\u001b[0m\n\u001b[1;32m   1296\u001b[0m                 )\n",
            "\u001b[0;31mValueError\u001b[0m: empty vocabulary; perhaps the documents only contain stop words"
          ]
        }
      ]
    },
    {
      "cell_type": "code",
      "source": [
        "# K-Means clustering\n",
        "num_clusters = 5\n",
        "kmeans = KMeans(n_clusters=num_clusters)\n",
        "kmeans.fit(tfidf_matrix)\n",
        "cluster_labels = kmeans.labels_"
      ],
      "metadata": {
        "id": "7diUbsUe4m5u"
      },
      "execution_count": null,
      "outputs": []
    },
    {
      "cell_type": "code",
      "source": [
        "# Add cluster labels to patents\n",
        "for i, patent in enumerate(technology_industry_patents):\n",
        "    patent[\"cluster_label\"] = cluster_labels[i]"
      ],
      "metadata": {
        "id": "BWg5v7l__5t3"
      },
      "execution_count": null,
      "outputs": []
    },
    {
      "cell_type": "code",
      "source": [
        "# Create clusters based on cluster labels\n",
        "technology_clusters = {}\n",
        "for i, label in enumerate(cluster_labels):\n",
        "    if label not in technology_clusters:\n",
        "        technology_clusters[label] = []\n",
        "    technology_clusters[label].append(technology_industry_patents[i])"
      ],
      "metadata": {
        "id": "BkAltjEH_7uG"
      },
      "execution_count": null,
      "outputs": []
    },
    {
      "cell_type": "code",
      "source": [
        "# Print patents in each cluster\n",
        "for label, cluster in technology_clusters.items():\n",
        "    print(f\"Technology Cluster {label + 1}:\")\n",
        "    for patent in cluster:\n",
        "        print(f\"Title: {patent['biblio']['invention_title']}\")\n",
        "    print(\"\\n\")"
      ],
      "metadata": {
        "id": "DJmzodAd_9pO"
      },
      "execution_count": null,
      "outputs": []
    },
    {
      "cell_type": "code",
      "source": [
        "from sklearn.manifold import TSNE"
      ],
      "metadata": {
        "id": "TwEe9gVfAY8d"
      },
      "execution_count": null,
      "outputs": []
    },
    {
      "cell_type": "code",
      "source": [
        "# Reduce dimensionality with t-SNE\n",
        "tsne = TSNE(n_components=2, random_state=0)\n",
        "tsne_matrix = tsne.fit_transform(tfidf_matrix.toarray())"
      ],
      "metadata": {
        "id": "f3lB_0jvAMB1"
      },
      "execution_count": null,
      "outputs": []
    },
    {
      "cell_type": "code",
      "source": [
        "import matplotlib.pyplot as plt"
      ],
      "metadata": {
        "id": "Ijxn35nnAxsr"
      },
      "execution_count": null,
      "outputs": []
    },
    {
      "cell_type": "code",
      "source": [
        "plt.figure(figsize=(12, 8))\n",
        "plt.scatter(tsne_matrix[:, 0], tsne_matrix[:, 1], c=cluster_labels, cmap='viridis')\n",
        "plt.title('t-SNE Visualization of Technology Clusters')\n",
        "plt.colorbar()\n",
        "plt.show()"
      ],
      "metadata": {
        "id": "tbnS3NuJAQfU"
      },
      "execution_count": null,
      "outputs": []
    },
    {
      "cell_type": "markdown",
      "source": [
        "Global count"
      ],
      "metadata": {
        "id": "K5e98-r-RcX0"
      }
    },
    {
      "cell_type": "code",
      "source": [
        "jurisdiction_counts = {}"
      ],
      "metadata": {
        "id": "lonNoxdTRcEr"
      },
      "execution_count": null,
      "outputs": []
    },
    {
      "cell_type": "code",
      "source": [
        "# Iterate through the patents and count them by jurisdiction\n",
        "for patent in patents:\n",
        "    jurisdiction = patent.get(\"jurisdiction\", \"Unknown\")  # Default to \"Unknown\" if jurisdiction is missing\n",
        "    if jurisdiction in jurisdiction_counts:\n",
        "        jurisdiction_counts[jurisdiction] += 1\n",
        "    else:\n",
        "        jurisdiction_counts[jurisdiction] = 1"
      ],
      "metadata": {
        "id": "ZQnWfIIhRjqM"
      },
      "execution_count": null,
      "outputs": []
    },
    {
      "cell_type": "code",
      "source": [
        "# Print the counts for each jurisdiction\n",
        "for jurisdiction, count in jurisdiction_counts.items():\n",
        "    print(f\"Jurisdiction: {jurisdiction}, Count: {count}\")"
      ],
      "metadata": {
        "id": "5d1J-qkZRkbm",
        "colab": {
          "base_uri": "https://localhost:8080/"
        },
        "outputId": "2b10e10c-9b19-4b8e-b98a-9ff0c9cf9381"
      },
      "execution_count": null,
      "outputs": [
        {
          "output_type": "stream",
          "name": "stdout",
          "text": [
            "Jurisdiction: US, Count: 1393\n",
            "Jurisdiction: WO, Count: 367\n",
            "Jurisdiction: EP, Count: 435\n",
            "Jurisdiction: GB, Count: 42\n",
            "Jurisdiction: RS, Count: 1\n",
            "Jurisdiction: ZA, Count: 64\n",
            "Jurisdiction: RO, Count: 13\n",
            "Jurisdiction: HU, Count: 5\n",
            "Jurisdiction: NL, Count: 24\n",
            "Jurisdiction: LT, Count: 5\n",
            "Jurisdiction: AU, Count: 72\n",
            "Jurisdiction: SK, Count: 1\n",
            "Jurisdiction: CA, Count: 36\n",
            "Jurisdiction: KR, Count: 591\n",
            "Jurisdiction: LU, Count: 13\n",
            "Jurisdiction: PL, Count: 18\n",
            "Jurisdiction: IL, Count: 21\n",
            "Jurisdiction: FI, Count: 5\n",
            "Jurisdiction: CZ, Count: 3\n",
            "Jurisdiction: MY, Count: 5\n",
            "Jurisdiction: NO, Count: 2\n",
            "Jurisdiction: CN, Count: 6756\n",
            "Jurisdiction: SI, Count: 3\n",
            "Jurisdiction: PT, Count: 2\n",
            "Jurisdiction: JP, Count: 24\n",
            "Jurisdiction: TW, Count: 84\n",
            "Jurisdiction: GR, Count: 1\n",
            "Jurisdiction: ES, Count: 3\n",
            "Jurisdiction: JO, Count: 1\n",
            "Jurisdiction: SA, Count: 5\n",
            "Jurisdiction: CR, Count: 2\n",
            "Jurisdiction: IE, Count: 2\n",
            "Jurisdiction: HR, Count: 1\n"
          ]
        }
      ]
    },
    {
      "cell_type": "code",
      "source": [
        "# Sort the dictionary by values in descending order\n",
        "sorted_jurisdiction_counts = dict(sorted(jurisdiction_counts.items(), key=lambda item: item[1], reverse=True))\n",
        "\n",
        "# Extract jurisdiction names and counts for plotting\n",
        "jurisdictions = list(sorted_jurisdiction_counts.keys())\n",
        "counts = list(sorted_jurisdiction_counts.values())\n",
        "\n",
        "# Create a bar graph\n",
        "plt.figure(figsize=(10, 6))\n",
        "plt.bar(jurisdictions, counts, color='skyblue')\n",
        "plt.xlabel('Jurisdiction')\n",
        "plt.ylabel('Number of Patents')\n",
        "plt.title('Patents by Jurisdiction (Sorted)')\n",
        "plt.xticks(rotation=90)  # Rotate x-axis labels for better readability\n",
        "\n",
        "# Display the bar graph\n",
        "plt.tight_layout()\n",
        "plt.show()\n"
      ],
      "metadata": {
        "colab": {
          "base_uri": "https://localhost:8080/",
          "height": 607
        },
        "id": "m2RoABqKQmX6",
        "outputId": "51659f9d-15c1-461e-d257-eff46abfe472"
      },
      "execution_count": 35,
      "outputs": [
        {
          "output_type": "display_data",
          "data": {
            "text/plain": [
              "<Figure size 1000x600 with 1 Axes>"
            ],
            "image/png": "[encoded data removed]"
          },
          "metadata": {}
        }
      ]
    },
    {
      "cell_type": "markdown",
      "source": [
        "Grant Rate"
      ],
      "metadata": {
        "id": "NjtUANyvX31Y"
      }
    },
    {
      "cell_type": "code",
      "source": [
        "# Counters\n",
        "total_patents = 0\n",
        "granted_patents = 0\n",
        "\n",
        "# Calculate the grant rate\n",
        "for patent in patents:\n",
        "    total_patents += 1\n",
        "    legal_status = patent.get('legal_status', {})\n",
        "    if legal_status.get('granted', False):\n",
        "        granted_patents += 1\n",
        "\n",
        "grant_rate = (granted_patents / total_patents) * 100\n",
        "# Print the grant rate\n",
        "print(f\"Grant Rate: {grant_rate:.2f}%\")"
      ],
      "metadata": {
        "colab": {
          "base_uri": "https://localhost:8080/"
        },
        "id": "11UAwIP2X2xe",
        "outputId": "0488701a-1e55-48df-ce41-3ff5223be726"
      },
      "execution_count": null,
      "outputs": [
        {
          "output_type": "stream",
          "name": "stdout",
          "text": [
            "Grant Rate: 36.69%\n"
          ]
        }
      ]
    }
  ]
}